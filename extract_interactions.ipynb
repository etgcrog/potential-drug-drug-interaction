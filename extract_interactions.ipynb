{
 "cells": [
  {
   "cell_type": "code",
   "execution_count": 1,
   "metadata": {},
   "outputs": [],
   "source": [
    "import time\n",
    "import pandas as pd\n",
    "\n",
    "# Libs do WebScraping\n",
    "import requests\n",
    "from bs4 import BeautifulSoup\n",
    "\n",
    "from selenium.webdriver.chrome.service import Service\n",
    "from selenium.webdriver.chrome.options import Options\n",
    "from selenium import webdriver\n",
    "from selenium.webdriver.common.by import By\n",
    "from selenium.webdriver.support.ui import WebDriverWait\n",
    "from selenium.webdriver.support import expected_conditions as EC\n",
    "from selenium.webdriver.common.keys import Keys"
   ]
  },
  {
   "cell_type": "code",
   "execution_count": 2,
   "metadata": {},
   "outputs": [],
   "source": [
    "df = pd.read_table(\"csv/ChCh-Miner_durgbank-chem-chem.tsv\", names=['drug_id1', 'drug_id2'])"
   ]
  },
  {
   "cell_type": "code",
   "execution_count": 3,
   "metadata": {},
   "outputs": [
    {
     "data": {
      "text/html": [
       "<div>\n",
       "<style scoped>\n",
       "    .dataframe tbody tr th:only-of-type {\n",
       "        vertical-align: middle;\n",
       "    }\n",
       "\n",
       "    .dataframe tbody tr th {\n",
       "        vertical-align: top;\n",
       "    }\n",
       "\n",
       "    .dataframe thead th {\n",
       "        text-align: right;\n",
       "    }\n",
       "</style>\n",
       "<table border=\"1\" class=\"dataframe\">\n",
       "  <thead>\n",
       "    <tr style=\"text-align: right;\">\n",
       "      <th></th>\n",
       "      <th>drug_id1</th>\n",
       "      <th>drug_id2</th>\n",
       "    </tr>\n",
       "  </thead>\n",
       "  <tbody>\n",
       "    <tr>\n",
       "      <th>0</th>\n",
       "      <td>DB00862</td>\n",
       "      <td>DB00966</td>\n",
       "    </tr>\n",
       "    <tr>\n",
       "      <th>1</th>\n",
       "      <td>DB00575</td>\n",
       "      <td>DB00806</td>\n",
       "    </tr>\n",
       "    <tr>\n",
       "      <th>2</th>\n",
       "      <td>DB01242</td>\n",
       "      <td>DB08893</td>\n",
       "    </tr>\n",
       "    <tr>\n",
       "      <th>3</th>\n",
       "      <td>DB01151</td>\n",
       "      <td>DB08883</td>\n",
       "    </tr>\n",
       "    <tr>\n",
       "      <th>4</th>\n",
       "      <td>DB01235</td>\n",
       "      <td>DB01275</td>\n",
       "    </tr>\n",
       "    <tr>\n",
       "      <th>...</th>\n",
       "      <td>...</td>\n",
       "      <td>...</td>\n",
       "    </tr>\n",
       "    <tr>\n",
       "      <th>48509</th>\n",
       "      <td>DB00542</td>\n",
       "      <td>DB01354</td>\n",
       "    </tr>\n",
       "    <tr>\n",
       "      <th>48510</th>\n",
       "      <td>DB00476</td>\n",
       "      <td>DB01239</td>\n",
       "    </tr>\n",
       "    <tr>\n",
       "      <th>48511</th>\n",
       "      <td>DB00621</td>\n",
       "      <td>DB01120</td>\n",
       "    </tr>\n",
       "    <tr>\n",
       "      <th>48512</th>\n",
       "      <td>DB00808</td>\n",
       "      <td>DB01356</td>\n",
       "    </tr>\n",
       "    <tr>\n",
       "      <th>48513</th>\n",
       "      <td>DB00677</td>\n",
       "      <td>DB06287</td>\n",
       "    </tr>\n",
       "  </tbody>\n",
       "</table>\n",
       "<p>48514 rows × 2 columns</p>\n",
       "</div>"
      ],
      "text/plain": [
       "      drug_id1 drug_id2\n",
       "0      DB00862  DB00966\n",
       "1      DB00575  DB00806\n",
       "2      DB01242  DB08893\n",
       "3      DB01151  DB08883\n",
       "4      DB01235  DB01275\n",
       "...        ...      ...\n",
       "48509  DB00542  DB01354\n",
       "48510  DB00476  DB01239\n",
       "48511  DB00621  DB01120\n",
       "48512  DB00808  DB01356\n",
       "48513  DB00677  DB06287\n",
       "\n",
       "[48514 rows x 2 columns]"
      ]
     },
     "execution_count": 3,
     "metadata": {},
     "output_type": "execute_result"
    }
   ],
   "source": [
    "df"
   ]
  },
  {
   "cell_type": "code",
   "execution_count": 4,
   "metadata": {},
   "outputs": [],
   "source": [
    "df = df.iloc[:10]"
   ]
  },
  {
   "cell_type": "code",
   "execution_count": 5,
   "metadata": {},
   "outputs": [],
   "source": [
    "def get_interaction_result(drug_id1, drug_name_2):\n",
    "    url = f\"https://go.drugbank.com/drugs/{drug_id1}#taxonomy/drug-interactions\"\n",
    "\n",
    "    chrome_driver_path = '/home/edudev/Documents/dados_abertos/drugsbank/web_driver/chromedriver'\n",
    "\n",
    "    # Configurar as opções do Chrome para executar em modo headless\n",
    "    chrome_options = Options()\n",
    "    chrome_options.add_argument(\"--headless\")\n",
    "    chrome_options.add_argument(\"--disable-gpu\")\n",
    "\n",
    "    # Configurar o serviço do ChromeDriver\n",
    "    service = Service(chrome_driver_path)\n",
    "\n",
    "    # Criar a instância do WebDriver do Chrome\n",
    "    driver = webdriver.Chrome(service=service)\n",
    "    driver.get(url)\n",
    "\n",
    "    try:\n",
    "        # Esperar até que o campo de pesquisa esteja presente na página\n",
    "        search_input = WebDriverWait(driver, 10).until(\n",
    "            EC.presence_of_element_located((By.CSS_SELECTOR, 'input[placeholder=\"Search\"]'))\n",
    "        )\n",
    "\n",
    "        search_input.clear()\n",
    "        search_input.send_keys(drug_name_2)\n",
    "        search_input.send_keys(Keys.RETURN)\n",
    "\n",
    "        # Esperar até que a tabela de interações seja carregada\n",
    "        time.sleep(2)  # Aguardar 2 segundos para garantir que a tabela tenha carregado completamente\n",
    "        interactions_table = WebDriverWait(driver, 10).until(\n",
    "            EC.presence_of_element_located((By.ID, \"drug-interactions-table\"))\n",
    "        )\n",
    "        result_row = interactions_table.find_element(By.CSS_SELECTOR, \"tbody > tr\")\n",
    "        result_text = result_row.find_element(By.XPATH, \"./td[2]\").text\n",
    "        return result_text\n",
    "    except:\n",
    "        return \"N/A\"\n",
    "    finally:\n",
    "        driver.quit()"
   ]
  },
  {
   "cell_type": "code",
   "execution_count": 6,
   "metadata": {},
   "outputs": [],
   "source": [
    "def get_drug_name(drug_id):\n",
    "    url = f\"https://go.drugbank.com/drugs/{drug_id}#taxonomy\"\n",
    "    response = requests.get(url)\n",
    "    soup = BeautifulSoup(response.content, \"html.parser\")\n",
    "    drug_name = soup.select_one(\"h1\")\n",
    "    if drug_name:\n",
    "        return drug_name.get_text(strip=True)\n",
    "    return \"N/A\""
   ]
  },
  {
   "cell_type": "code",
   "execution_count": 7,
   "metadata": {},
   "outputs": [
    {
     "name": "stderr",
     "output_type": "stream",
     "text": [
      "/tmp/ipykernel_55319/321433373.py:2: SettingWithCopyWarning: \n",
      "A value is trying to be set on a copy of a slice from a DataFrame.\n",
      "Try using .loc[row_indexer,col_indexer] = value instead\n",
      "\n",
      "See the caveats in the documentation: https://pandas.pydata.org/pandas-docs/stable/user_guide/indexing.html#returning-a-view-versus-a-copy\n",
      "  df[\"drug_name_1\"] = df[\"drug_id1\"].apply(get_drug_name)\n",
      "/tmp/ipykernel_55319/321433373.py:3: SettingWithCopyWarning: \n",
      "A value is trying to be set on a copy of a slice from a DataFrame.\n",
      "Try using .loc[row_indexer,col_indexer] = value instead\n",
      "\n",
      "See the caveats in the documentation: https://pandas.pydata.org/pandas-docs/stable/user_guide/indexing.html#returning-a-view-versus-a-copy\n",
      "  df[\"drug_name_2\"] = df[\"drug_id2\"].apply(get_drug_name)\n"
     ]
    }
   ],
   "source": [
    "# Aplicar a função ao DataFrame e criar novas colunas\n",
    "df[\"drug_name_1\"] = df[\"drug_id1\"].apply(get_drug_name)\n",
    "df[\"drug_name_2\"] = df[\"drug_id2\"].apply(get_drug_name)\n",
    "df[\"interaction_result\"] = df.apply(lambda row: get_interaction_result(row[\"drug_id1\"], row[\"drug_name_2\"]), axis=1)"
   ]
  },
  {
   "cell_type": "code",
   "execution_count": null,
   "metadata": {},
   "outputs": [
    {
     "data": {
      "text/html": [
       "<div>\n",
       "<style scoped>\n",
       "    .dataframe tbody tr th:only-of-type {\n",
       "        vertical-align: middle;\n",
       "    }\n",
       "\n",
       "    .dataframe tbody tr th {\n",
       "        vertical-align: top;\n",
       "    }\n",
       "\n",
       "    .dataframe thead th {\n",
       "        text-align: right;\n",
       "    }\n",
       "</style>\n",
       "<table border=\"1\" class=\"dataframe\">\n",
       "  <thead>\n",
       "    <tr style=\"text-align: right;\">\n",
       "      <th></th>\n",
       "      <th>drug_id1</th>\n",
       "      <th>drug_id2</th>\n",
       "      <th>drug_name_1</th>\n",
       "      <th>drug_name_2</th>\n",
       "      <th>interaction_result</th>\n",
       "    </tr>\n",
       "  </thead>\n",
       "  <tbody>\n",
       "    <tr>\n",
       "      <th>0</th>\n",
       "      <td>DB00862</td>\n",
       "      <td>DB00966</td>\n",
       "      <td>Vardenafil</td>\n",
       "      <td>Telmisartan</td>\n",
       "      <td>N/A</td>\n",
       "    </tr>\n",
       "    <tr>\n",
       "      <th>1</th>\n",
       "      <td>DB00575</td>\n",
       "      <td>DB00806</td>\n",
       "      <td>Clonidine</td>\n",
       "      <td>Pentoxifylline</td>\n",
       "      <td>N/A</td>\n",
       "    </tr>\n",
       "    <tr>\n",
       "      <th>2</th>\n",
       "      <td>DB01242</td>\n",
       "      <td>DB08893</td>\n",
       "      <td>Clomipramine</td>\n",
       "      <td>Mirabegron</td>\n",
       "      <td>N/A</td>\n",
       "    </tr>\n",
       "    <tr>\n",
       "      <th>3</th>\n",
       "      <td>DB01151</td>\n",
       "      <td>DB08883</td>\n",
       "      <td>Desipramine</td>\n",
       "      <td>Perampanel</td>\n",
       "      <td>N/A</td>\n",
       "    </tr>\n",
       "    <tr>\n",
       "      <th>4</th>\n",
       "      <td>DB01235</td>\n",
       "      <td>DB01275</td>\n",
       "      <td>Levodopa</td>\n",
       "      <td>Hydralazine</td>\n",
       "      <td>N/A</td>\n",
       "    </tr>\n",
       "  </tbody>\n",
       "</table>\n",
       "</div>"
      ],
      "text/plain": [
       "  drug_id1 drug_id2   drug_name_1     drug_name_2 interaction_result\n",
       "0  DB00862  DB00966    Vardenafil     Telmisartan                N/A\n",
       "1  DB00575  DB00806     Clonidine  Pentoxifylline                N/A\n",
       "2  DB01242  DB08893  Clomipramine      Mirabegron                N/A\n",
       "3  DB01151  DB08883   Desipramine      Perampanel                N/A\n",
       "4  DB01235  DB01275      Levodopa     Hydralazine                N/A"
      ]
     },
     "execution_count": 186,
     "metadata": {},
     "output_type": "execute_result"
    }
   ],
   "source": [
    "df.head()"
   ]
  },
  {
   "cell_type": "code",
   "execution_count": null,
   "metadata": {},
   "outputs": [
    {
     "data": {
      "text/plain": [
       "'N/A'"
      ]
     },
     "execution_count": 187,
     "metadata": {},
     "output_type": "execute_result"
    }
   ],
   "source": [
    "df.iloc[4, :]['interaction_result']"
   ]
  }
 ],
 "metadata": {
  "kernelspec": {
   "display_name": "Python 3",
   "language": "python",
   "name": "python3"
  },
  "language_info": {
   "codemirror_mode": {
    "name": "ipython",
    "version": 3
   },
   "file_extension": ".py",
   "mimetype": "text/x-python",
   "name": "python",
   "nbconvert_exporter": "python",
   "pygments_lexer": "ipython3",
   "version": "3.10.12"
  },
  "orig_nbformat": 4
 },
 "nbformat": 4,
 "nbformat_minor": 2
}
